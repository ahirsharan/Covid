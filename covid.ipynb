{
  "nbformat": 4,
  "nbformat_minor": 0,
  "metadata": {
    "kernelspec": {
      "display_name": "Python 3",
      "language": "python",
      "name": "python3"
    },
    "language_info": {
      "codemirror_mode": {
        "name": "ipython",
        "version": 3
      },
      "file_extension": ".py",
      "mimetype": "text/x-python",
      "name": "python",
      "nbconvert_exporter": "python",
      "pygments_lexer": "ipython3",
      "version": "3.7.6"
    },
    "colab": {
      "name": "GursharanAhir_16EC10021.ipynb",
      "provenance": []
    },
    "accelerator": "GPU"
  },
  "cells": [
    {
      "cell_type": "markdown",
      "metadata": {
        "id": "dGY1VUir25uA",
        "colab_type": "text"
      },
      "source": [
        "# COVID19 Action-Radiology-CXR\n",
        "## Gursharan Ahir\n",
        "## 16EC10021"
      ]
    },
    {
      "cell_type": "code",
      "metadata": {
        "id": "-3za6aIe25uC",
        "colab_type": "code",
        "colab": {}
      },
      "source": [
        "%matplotlib inline\n",
        "import numpy as np\n",
        "import pandas as pd\n",
        "import os \n",
        "import math\n",
        "import shutil \n",
        "import torchvision.transforms.functional as tf\n",
        "from numpy import argmax\n",
        "from skimage.io import imread\n",
        "from skimage.transform import resize\n",
        "from sklearn.metrics import f1_score\n",
        "from sklearn.metrics import recall_score\n",
        "from sklearn.metrics import precision_score\n",
        "from sklearn. preprocessing import LabelEncoder\n",
        "from sklearn. preprocessing import OneHotEncoder\n",
        "import matplotlib.pyplot as plt"
      ],
      "execution_count": 0,
      "outputs": []
    },
    {
      "cell_type": "markdown",
      "metadata": {
        "id": "QPbpD03k25uJ",
        "colab_type": "text"
      },
      "source": [
        "# Data Processing"
      ]
    },
    {
      "cell_type": "code",
      "metadata": {
        "id": "EhefmZcr7VIl",
        "colab_type": "code",
        "outputId": "2d7eac7c-df1d-419c-901c-98e5712027cc",
        "colab": {
          "base_uri": "https://localhost:8080/",
          "height": 34
        }
      },
      "source": [
        "from google.colab import drive\n",
        "drive.mount('/content/drive',force_remount=True)"
      ],
      "execution_count": 9,
      "outputs": [
        {
          "output_type": "stream",
          "text": [
            "Mounted at /content/drive\n"
          ],
          "name": "stdout"
        }
      ]
    },
    {
      "cell_type": "code",
      "metadata": {
        "id": "GElmyFen25uK",
        "colab_type": "code",
        "colab": {}
      },
      "source": [
        "current_dir=\"./drive/My Drive/Datasetsnew/Covid19action-radiology-CXR_v1.1\""
      ],
      "execution_count": 0,
      "outputs": []
    },
    {
      "cell_type": "code",
      "metadata": {
        "id": "rlZFm8ie25uP",
        "colab_type": "code",
        "colab": {}
      },
      "source": [
        "mode=['Test','Train']\n",
        "\n",
        "for i in mode:\n",
        "    df=pd.read_csv(str(current_dir)+\"/\"+str(i)+\"_Combined.csv\")\n",
        "    Covid_19=df[(df['COVID-19']==1)]\n",
        "    Other=df[(df['COVID-19']==0)]\n",
        "    vars()[\"Covid_filename_\"+str(i)]=Covid_19['Image Name'].to_numpy()\n",
        "    vars()[\"Others_filename_\"+str(i)]=Other['Image Name'].to_numpy()\n",
        "    "
      ],
      "execution_count": 0,
      "outputs": []
    },
    {
      "cell_type": "code",
      "metadata": {
        "id": "1M-_5zFmnEXT",
        "colab_type": "code",
        "outputId": "06c84dd5-9cb0-41ee-de90-30ef2461d0bf",
        "colab": {
          "base_uri": "https://localhost:8080/",
          "height": 419
        }
      },
      "source": [
        "df"
      ],
      "execution_count": 12,
      "outputs": [
        {
          "output_type": "execute_result",
          "data": {
            "text/html": [
              "<div>\n",
              "<style scoped>\n",
              "    .dataframe tbody tr th:only-of-type {\n",
              "        vertical-align: middle;\n",
              "    }\n",
              "\n",
              "    .dataframe tbody tr th {\n",
              "        vertical-align: top;\n",
              "    }\n",
              "\n",
              "    .dataframe thead th {\n",
              "        text-align: right;\n",
              "    }\n",
              "</style>\n",
              "<table border=\"1\" class=\"dataframe\">\n",
              "  <thead>\n",
              "    <tr style=\"text-align: right;\">\n",
              "      <th></th>\n",
              "      <th>Image Name</th>\n",
              "      <th>Data Source</th>\n",
              "      <th>Partition</th>\n",
              "      <th>Non-Pneumonia</th>\n",
              "      <th>Other Pneumonia</th>\n",
              "      <th>COVID-19</th>\n",
              "    </tr>\n",
              "  </thead>\n",
              "  <tbody>\n",
              "    <tr>\n",
              "      <th>0</th>\n",
              "      <td>CASE58_XRAY_1.jpeg</td>\n",
              "      <td>Source-2</td>\n",
              "      <td>1</td>\n",
              "      <td>0</td>\n",
              "      <td>0</td>\n",
              "      <td>1</td>\n",
              "    </tr>\n",
              "    <tr>\n",
              "      <th>1</th>\n",
              "      <td>case2_xray_1.jpeg</td>\n",
              "      <td>Source-2</td>\n",
              "      <td>1</td>\n",
              "      <td>0</td>\n",
              "      <td>0</td>\n",
              "      <td>1</td>\n",
              "    </tr>\n",
              "    <tr>\n",
              "      <th>2</th>\n",
              "      <td>case2_xray_2.jpeg</td>\n",
              "      <td>Source-2</td>\n",
              "      <td>1</td>\n",
              "      <td>0</td>\n",
              "      <td>0</td>\n",
              "      <td>1</td>\n",
              "    </tr>\n",
              "    <tr>\n",
              "      <th>3</th>\n",
              "      <td>case8_xray_1.jpeg</td>\n",
              "      <td>Source-2</td>\n",
              "      <td>1</td>\n",
              "      <td>0</td>\n",
              "      <td>0</td>\n",
              "      <td>1</td>\n",
              "    </tr>\n",
              "    <tr>\n",
              "      <th>4</th>\n",
              "      <td>case8_xray_2.jpeg</td>\n",
              "      <td>Source-2</td>\n",
              "      <td>1</td>\n",
              "      <td>0</td>\n",
              "      <td>0</td>\n",
              "      <td>1</td>\n",
              "    </tr>\n",
              "    <tr>\n",
              "      <th>...</th>\n",
              "      <td>...</td>\n",
              "      <td>...</td>\n",
              "      <td>...</td>\n",
              "      <td>...</td>\n",
              "      <td>...</td>\n",
              "      <td>...</td>\n",
              "    </tr>\n",
              "    <tr>\n",
              "      <th>228933</th>\n",
              "      <td>aspiration-pneumonia-5-day27.jpg</td>\n",
              "      <td>Source-5</td>\n",
              "      <td>4</td>\n",
              "      <td>0</td>\n",
              "      <td>1</td>\n",
              "      <td>0</td>\n",
              "    </tr>\n",
              "    <tr>\n",
              "      <th>228934</th>\n",
              "      <td>pneumocystis-jirovecii-pneumonia-3-1.jpg</td>\n",
              "      <td>Source-5</td>\n",
              "      <td>4</td>\n",
              "      <td>0</td>\n",
              "      <td>1</td>\n",
              "      <td>0</td>\n",
              "    </tr>\n",
              "    <tr>\n",
              "      <th>228935</th>\n",
              "      <td>pneumocystis-jirovecii-pneumonia-3-2.jpg</td>\n",
              "      <td>Source-5</td>\n",
              "      <td>4</td>\n",
              "      <td>0</td>\n",
              "      <td>1</td>\n",
              "      <td>0</td>\n",
              "    </tr>\n",
              "    <tr>\n",
              "      <th>228936</th>\n",
              "      <td>pneumocystis-jirovecii-pneumonia-3-3.jpg</td>\n",
              "      <td>Source-5</td>\n",
              "      <td>4</td>\n",
              "      <td>0</td>\n",
              "      <td>1</td>\n",
              "      <td>0</td>\n",
              "    </tr>\n",
              "    <tr>\n",
              "      <th>228937</th>\n",
              "      <td>X-ray_of_cyst_in_pneumocystis_pneumonia_1.jpg</td>\n",
              "      <td>Source-5</td>\n",
              "      <td>5</td>\n",
              "      <td>0</td>\n",
              "      <td>1</td>\n",
              "      <td>0</td>\n",
              "    </tr>\n",
              "  </tbody>\n",
              "</table>\n",
              "<p>228938 rows × 6 columns</p>\n",
              "</div>"
            ],
            "text/plain": [
              "                                           Image Name  ... COVID-19\n",
              "0                                  CASE58_XRAY_1.jpeg  ...        1\n",
              "1                                   case2_xray_1.jpeg  ...        1\n",
              "2                                   case2_xray_2.jpeg  ...        1\n",
              "3                                   case8_xray_1.jpeg  ...        1\n",
              "4                                   case8_xray_2.jpeg  ...        1\n",
              "...                                               ...  ...      ...\n",
              "228933               aspiration-pneumonia-5-day27.jpg  ...        0\n",
              "228934       pneumocystis-jirovecii-pneumonia-3-1.jpg  ...        0\n",
              "228935       pneumocystis-jirovecii-pneumonia-3-2.jpg  ...        0\n",
              "228936       pneumocystis-jirovecii-pneumonia-3-3.jpg  ...        0\n",
              "228937  X-ray_of_cyst_in_pneumocystis_pneumonia_1.jpg  ...        0\n",
              "\n",
              "[228938 rows x 6 columns]"
            ]
          },
          "metadata": {
            "tags": []
          },
          "execution_count": 12
        }
      ]
    },
    {
      "cell_type": "code",
      "metadata": {
        "id": "SUOqGauw25uU",
        "colab_type": "code",
        "colab": {}
      },
      "source": [
        "# Organizing the data for easy data loading\n",
        "ty=['Covid','Others']\n",
        "ph=['Train','Test']\n",
        "\n",
        "for name in ph:\n",
        "        \n",
        "    for i in ty:\n",
        "        dirname=current_dir+'/COVID/preprocessed/'+name+'/'+str(i)\n",
        "        os.makedirs(dirname)\n",
        "        \n",
        "        for j in range(1,8):\n",
        "            if j==3 or j==4:\n",
        "                continue\n",
        "            \n",
        "            path=str(current_dir)+'/images/Source'+str(j)\n",
        "            \n",
        "            for k in range(len(vars()[str(i)+\"_filename_\"+str(name)])):        \n",
        "                if os.path.exists(path+'/'+str(vars()[str(i)+\"_filename_\"+str(name)].item(k))):                   \n",
        "                    shutil.copy(path+'/'+str(vars()[str(i)+\"_filename_\"+str(name)].item(k)), dirname)        \n",
        "    "
      ],
      "execution_count": 0,
      "outputs": []
    },
    {
      "cell_type": "markdown",
      "metadata": {
        "id": "qz4sxgMJ25uZ",
        "colab_type": "text"
      },
      "source": [
        "# Training"
      ]
    },
    {
      "cell_type": "code",
      "metadata": {
        "id": "y5ILBNKJ25ua",
        "colab_type": "code",
        "colab": {}
      },
      "source": [
        "from __future__ import print_function\n",
        "from __future__ import division\n",
        "import torch\n",
        "import torch.nn as nn\n",
        "import torch.optim as optim\n",
        "import torchvision\n",
        "from torchvision import datasets, models, transforms\n",
        "import time"
      ],
      "execution_count": 0,
      "outputs": []
    },
    {
      "cell_type": "code",
      "metadata": {
        "id": "APLk6jrS25uj",
        "colab_type": "code",
        "outputId": "6a3281f9-9283-4252-a8d2-e586c360fa58",
        "colab": {
          "base_uri": "https://localhost:8080/",
          "height": 34
        }
      },
      "source": [
        "set_gpu= torch.cuda.is_available()\n",
        "if set_gpu:\n",
        "    print('cuda is available')"
      ],
      "execution_count": 36,
      "outputs": [
        {
          "output_type": "stream",
          "text": [
            "cuda is available\n"
          ],
          "name": "stdout"
        }
      ]
    },
    {
      "cell_type": "code",
      "metadata": {
        "id": "1f3c68D825uo",
        "colab_type": "code",
        "colab": {}
      },
      "source": [
        "data_dir = current_dir+\"/COVID/preprocessed\"\n",
        "model_name = \"densenet\"\n",
        "num_classes = 2  \n",
        "batch_size = 8      \n",
        "num_epochs = 50    \n",
        "\n",
        "# feature_extract: False - To finetune whole model, True- To finetune the end reshaped layers\n",
        "feature_extract = False"
      ],
      "execution_count": 0,
      "outputs": []
    },
    {
      "cell_type": "code",
      "metadata": {
        "id": "hjRRoaBB25uu",
        "colab_type": "code",
        "colab": {}
      },
      "source": [
        "torch.cuda.empty_cache()\n",
        "torch.cuda.reset_max_memory_allocated(device=None)\n",
        "torch.cuda.reset_max_memory_cached(device=None)"
      ],
      "execution_count": 0,
      "outputs": []
    },
    {
      "cell_type": "code",
      "metadata": {
        "id": "Psri0GoE25uy",
        "colab_type": "code",
        "colab": {}
      },
      "source": [
        "def set_parameter_requires_grad(model, feature_extracting):\n",
        "    if feature_extracting:\n",
        "        for param in model.parameters():\n",
        "            param.requires_grad = False    \n"
      ],
      "execution_count": 0,
      "outputs": []
    },
    {
      "cell_type": "code",
      "metadata": {
        "id": "HOOA1cSY25u3",
        "colab_type": "code",
        "colab": {}
      },
      "source": [
        "# Training and validating the model\n",
        "\n",
        "def model_train(model, dataloaders, criterion, optimizer, num_epochs, is_inception=False):\n",
        "    start = time.time()\n",
        "    print(\"Epoch    Train_acc   Train_loss    Val_acc    Val_loss\")\n",
        "        \n",
        "    tr_acc=[]\n",
        "    vl_acc=[]\n",
        "    tr_loss=[]\n",
        "    vl_loss=[]\n",
        "\n",
        "    best_acc = 0.0\n",
        "\n",
        "\n",
        "    for epoch in range(num_epochs):\n",
        "        print('-' * 50)\n",
        "       \n",
        "        # Each epoch has a training and validation phase\n",
        "        for phase in ['Train', 'Test']:\n",
        "            if phase == 'Train':\n",
        "                model.train()  # Set model to training mode\n",
        "            else:\n",
        "                model.eval()   # Set model to evaluate mode\n",
        "\n",
        "            running_loss = 0.0\n",
        "            running_corrects = 0\n",
        "\n",
        "            # Iterate over data.\n",
        "            for inputs, labels in dataloaders[phase]:\n",
        " \n",
        "                if(set_gpu):\n",
        "                    inputs=inputs.cuda()\n",
        "                    labels=labels.cuda()\n",
        "\n",
        "                # zero the parameter gradients\n",
        "                optimizer.zero_grad()\n",
        "                with torch.set_grad_enabled(phase == 'Train'):\n",
        "                    \n",
        "                    # Feed Forward Data\n",
        "                    outputs = model(inputs)\n",
        "                    \n",
        "                    # CE Loss calculated\n",
        "                    loss = criterion(outputs, labels)\n",
        "\n",
        "                    # The class with max probability taken as the predicted label\n",
        "                    _, preds = torch.max(outputs, 1)\n",
        "             \n",
        "                    if phase == 'Train':\n",
        "                        loss.backward()\n",
        "                        optimizer.step()\n",
        "\n",
        "                # Running loss and correct predictions calculated\n",
        "                running_loss += loss.item()\n",
        "                running_corrects += torch.sum(preds == labels.data)\n",
        "            \n",
        "            #Loss and Accuracy for each epoch (average of all)\n",
        "            epoch_loss = running_loss / len(dataloaders[phase].dataset)\n",
        "            epoch_acc = running_corrects.double() / len(dataloaders[phase].dataset)\n",
        "\n",
        "            \n",
        "            if phase =='Train':\n",
        "                train_acc=epoch_acc\n",
        "                train_loss=epoch_loss\n",
        "                tr_acc.append(epoch_acc*100.0)\n",
        "                tr_loss.append(epoch_loss)\n",
        "                \n",
        "                \n",
        "            if phase == 'Test':\n",
        "                val_acc=epoch_acc\n",
        "                val_loss=epoch_loss\n",
        "                vl_acc.append(epoch_acc*100.0)\n",
        "                vl_loss.append(epoch_loss)\n",
        "                if(epoch_acc>best_acc):\n",
        "                    best_acc=epoch_acc\n",
        "                print(\"  {}        {:.3f}       {:.3f}      {:.3f}      {:.3f}\".format(epoch+1,train_acc*100.0,train_loss,val_acc*100.0,val_loss))\n",
        "\n",
        "\n",
        "    elapsed = time.time() - start\n",
        "    print('Training complete in {:.0f}m {:.0f}s'.format(elapsed // 60, elapsed % 60))\n",
        "    print('Best Validation Accuracy:{:.4f} '.format(best_acc*100.0))\n",
        " \n",
        "    return model, tr_acc, tr_loss, vl_acc,vl_loss\n"
      ],
      "execution_count": 0,
      "outputs": []
    },
    {
      "cell_type": "code",
      "metadata": {
        "id": "FvTkn_ST25u7",
        "colab_type": "code",
        "colab": {}
      },
      "source": [
        "# The model architecture could be chosen from the pytorch models\n",
        "\n",
        "def initialize(model_name, num_classes, feature_extract, use_pretrained=True):\n",
        "    model_ft = None\n",
        "    input_size = 0\n",
        "\n",
        "    if model_name == \"resnet\":\n",
        "        \"\"\" Resnet18\n",
        "        \"\"\"\n",
        "        model_ft = models.resnet18(pretrained=use_pretrained)\n",
        "        set_parameter_requires_grad(model_ft, feature_extract)\n",
        "        num_ftrs = model_ft.fc.in_features\n",
        "        model_ft.fc = nn.Linear(num_ftrs, num_classes)\n",
        "        input_size = 224\n",
        "\n",
        "    elif model_name == \"alexnet\":\n",
        "        \"\"\" Alexnet\n",
        "        \"\"\"\n",
        "        model_ft = models.alexnet(pretrained=use_pretrained)\n",
        "        set_parameter_requires_grad(model_ft, feature_extract)\n",
        "        num_ftrs = model_ft.classifier[6].in_features\n",
        "        model_ft.classifier[6] = nn.Linear(num_ftrs,num_classes)\n",
        "        input_size = 224\n",
        "\n",
        "    elif model_name == \"vgg\":\n",
        "        \"\"\" VGG11_bn\n",
        "        \"\"\"\n",
        "        model_ft = models.vgg11_bn(pretrained=use_pretrained)\n",
        "        set_parameter_requires_grad(model_ft, feature_extract)\n",
        "        num_ftrs = model_ft.classifier[6].in_features\n",
        "        model_ft.classifier[6] = nn.Linear(num_ftrs,num_classes)\n",
        "        input_size = 224\n",
        "\n",
        "    elif model_name == \"squeezenet\":\n",
        "        \"\"\" Squeezenet\n",
        "        \"\"\"\n",
        "        model_ft = models.squeezenet1_0(pretrained=use_pretrained)\n",
        "        set_parameter_requires_grad(model_ft, feature_extract)\n",
        "        model_ft.classifier[1] = nn.Conv2d(512, num_classes, kernel_size=(1,1), stride=(1,1))\n",
        "        model_ft.num_classes = num_classes\n",
        "        input_size = 224\n",
        "\n",
        "    elif model_name == \"densenet\":\n",
        "        \"\"\" Densenet\n",
        "        \"\"\"\n",
        "        model_ft = models.densenet121(pretrained=use_pretrained)\n",
        "        set_parameter_requires_grad(model_ft, feature_extract)\n",
        "        num_ftrs = model_ft.classifier.in_features\n",
        "        model_ft.classifier = nn.Linear(num_ftrs, num_classes)\n",
        "        input_size = 224\n",
        "\n",
        "    elif model_name == \"inception\":\n",
        "        model_ft = models.inception_v3(pretrained=use_pretrained)\n",
        "        set_parameter_requires_grad(model_ft, feature_extract)\n",
        "        num_ftrs = model_ft.AuxLogits.fc.in_features\n",
        "        model_ft.AuxLogits.fc = nn.Linear(num_ftrs, num_classes)\n",
        "        num_ftrs = model_ft.fc.in_features\n",
        "        model_ft.fc = nn.Linear(num_ftrs,num_classes)\n",
        "        input_size = 299\n",
        "\n",
        "    else:\n",
        "        print(\"Invalid model name, exiting...\")\n",
        "        exit()\n",
        "\n",
        "    return model_ft, input_size\n",
        "\n",
        "# Initialize the model for this run\n",
        "model_ft, input_size = initialize(model_name, num_classes, feature_extract, use_pretrained=False)"
      ],
      "execution_count": 0,
      "outputs": []
    },
    {
      "cell_type": "code",
      "metadata": {
        "id": "oInZo8sU25vF",
        "colab_type": "code",
        "outputId": "5a0d8f8e-de9d-4839-9dde-43b9af63f39b",
        "colab": {
          "base_uri": "https://localhost:8080/",
          "height": 34
        }
      },
      "source": [
        "# Data augmentation and normalization of images\n",
        "\n",
        "data_transforms = {\n",
        "    'Train': transforms.Compose([\n",
        "        transforms.RandomRotation(30),\n",
        "        transforms.RandomResizedCrop(input_size),\n",
        "        transforms.RandomHorizontalFlip(),\n",
        "        transforms.ToTensor(),\n",
        "        transforms.Normalize([0.485, 0.456, 0.406], [0.229, 0.224, 0.225])\n",
        "    ]),\n",
        "    'Test': transforms.Compose([\n",
        "        transforms.Resize(input_size),\n",
        "        transforms.CenterCrop(input_size),\n",
        "        transforms.ToTensor(),\n",
        "        transforms.Normalize([0.485, 0.456, 0.406], [0.229, 0.224, 0.225])\n",
        "    ]),\n",
        "}\n",
        "\n",
        "print(\"Initializing Datasets and Dataloaders...\")\n",
        "\n",
        "# Create train and val datasets\n",
        "image_datasets = {x: datasets.ImageFolder(os.path.join(data_dir, x), data_transforms[x]) for x in ['Train', 'Test']}\n",
        "\n",
        "# Create train and val dataloaders\n",
        "dataloaders_dict = {x: torch.utils.data.DataLoader(image_datasets[x], batch_size=batch_size, shuffle=True, num_workers=4) for x in ['Train', 'Test']}\n",
        "\n",
        "device = torch.device(\"cuda:0\" if torch.cuda.is_available() else \"cpu\")"
      ],
      "execution_count": 42,
      "outputs": [
        {
          "output_type": "stream",
          "text": [
            "Initializing Datasets and Dataloaders...\n"
          ],
          "name": "stdout"
        }
      ]
    },
    {
      "cell_type": "code",
      "metadata": {
        "id": "iMJW8T9n25vK",
        "colab_type": "code",
        "colab": {}
      },
      "source": [
        "# Send the model to GPU\n",
        "if(set_gpu):\n",
        "  model_ft = model_ft.cuda()\n",
        "\n",
        "params_to_update = model_ft.parameters()\n",
        "\n",
        "if feature_extract:\n",
        "    params_to_update = []\n",
        "    for name,param in model_ft.named_parameters():\n",
        "        if param.requires_grad == True:\n",
        "            params_to_update.append(param)\n",
        "\n",
        "# Optimzer set as Adam\n",
        "optimizer_ft = optim.Adam(params_to_update, lr=0.001)"
      ],
      "execution_count": 0,
      "outputs": []
    },
    {
      "cell_type": "code",
      "metadata": {
        "id": "gUVDiCXl25vV",
        "colab_type": "code",
        "colab": {}
      },
      "source": [
        "# Set the loss function as CE loss\n",
        "criterion = nn.CrossEntropyLoss()\n",
        "\n",
        "# Train and evaluate\n",
        "def select_model(dataloaders_dict, criterion, num_epochs, l_rate):\n",
        "    print(\"Learning Rate=\",l_rate)\n",
        "    optimizer_ft = optim.Adam(model_ft.classifier.parameters(), lr=l_rate)\n",
        "    model, tr_acc, tr_loss, vl_acc, vl_loss  = model_train(model_ft, dataloaders_dict, criterion, optimizer_ft, num_epochs=num_epochs, is_inception=(model_name==\"inception\"))\n",
        "   \n",
        "    return model, tr_acc, tr_loss, vl_acc,vl_loss"
      ],
      "execution_count": 0,
      "outputs": []
    },
    {
      "cell_type": "code",
      "metadata": {
        "id": "aIOwdfij25vZ",
        "colab_type": "code",
        "outputId": "69b0c426-d3f3-4799-9e68-8e235142baeb",
        "colab": {
          "base_uri": "https://localhost:8080/",
          "height": 1000
        }
      },
      "source": [
        "# Learning Rate\n",
        "lr=0.006\n",
        "\n",
        "tr_acc=[]\n",
        "vl_acc=[]\n",
        "\n",
        "# Commence Training and Validation\n",
        "model_ft, tr_acc, tr_loss, vl_acc, vl_loss = select_model(dataloaders_dict, criterion, num_epochs,lr)\n",
        "time.sleep(60)\n"
      ],
      "execution_count": 54,
      "outputs": [
        {
          "output_type": "stream",
          "text": [
            "Learning Rate= 0.006\n",
            "Epoch    Train_acc   Train_loss    Val_acc    Val_loss\n",
            "--------------------------------------------------\n",
            "  1        72.131       0.106      60.000      0.155\n",
            "--------------------------------------------------\n",
            "  2        66.667       0.086      74.286      0.100\n",
            "--------------------------------------------------\n",
            "  3        72.678       0.075      65.714      0.101\n",
            "--------------------------------------------------\n",
            "  4        75.410       0.068      62.857      0.107\n",
            "--------------------------------------------------\n",
            "  5        72.678       0.074      71.429      0.078\n",
            "--------------------------------------------------\n",
            "  6        69.399       0.083      71.429      0.087\n",
            "--------------------------------------------------\n",
            "  7        68.306       0.090      74.286      0.086\n",
            "--------------------------------------------------\n",
            "  8        74.317       0.077      60.000      0.111\n",
            "--------------------------------------------------\n",
            "  9        68.306       0.091      68.571      0.096\n",
            "--------------------------------------------------\n",
            "  10        69.399       0.084      57.143      0.159\n",
            "--------------------------------------------------\n",
            "  11        74.317       0.076      34.286      0.183\n",
            "--------------------------------------------------\n",
            "  12        68.852       0.090      74.286      0.125\n",
            "--------------------------------------------------\n",
            "  13        76.503       0.066      77.143      0.084\n",
            "--------------------------------------------------\n",
            "  14        68.306       0.090      77.143      0.083\n",
            "--------------------------------------------------\n",
            "  15        72.131       0.076      80.000      0.084\n",
            "--------------------------------------------------\n",
            "  16        68.306       0.085      68.571      0.093\n",
            "--------------------------------------------------\n",
            "  17        69.945       0.074      74.286      0.070\n",
            "--------------------------------------------------\n",
            "  18        68.306       0.094      74.286      0.085\n",
            "--------------------------------------------------\n",
            "  19        71.585       0.077      77.143      0.077\n",
            "--------------------------------------------------\n",
            "  20        72.131       0.075      74.286      0.070\n",
            "--------------------------------------------------\n",
            "  21        73.770       0.077      77.143      0.071\n",
            "--------------------------------------------------\n",
            "  22        74.863       0.068      74.286      0.105\n",
            "--------------------------------------------------\n",
            "  23        65.574       0.102      77.143      0.086\n",
            "--------------------------------------------------\n",
            "  24        75.956       0.067      77.143      0.068\n",
            "--------------------------------------------------\n",
            "  25        72.678       0.070      77.143      0.074\n",
            "--------------------------------------------------\n",
            "  26        74.317       0.073      37.143      0.168\n",
            "--------------------------------------------------\n",
            "  27        70.492       0.098      51.429      0.141\n",
            "--------------------------------------------------\n",
            "  28        73.224       0.074      65.714      0.092\n",
            "--------------------------------------------------\n",
            "  29        72.678       0.070      74.286      0.077\n",
            "--------------------------------------------------\n",
            "  30        72.678       0.070      71.429      0.081\n",
            "--------------------------------------------------\n",
            "  31        74.863       0.067      62.857      0.122\n",
            "--------------------------------------------------\n",
            "  32        74.863       0.076      57.143      0.181\n",
            "--------------------------------------------------\n",
            "  33        71.585       0.097      71.429      0.076\n",
            "--------------------------------------------------\n",
            "  34        67.760       0.091      68.571      0.102\n",
            "--------------------------------------------------\n",
            "  35        73.770       0.069      74.286      0.094\n",
            "--------------------------------------------------\n",
            "  36        74.863       0.077      77.143      0.083\n",
            "--------------------------------------------------\n",
            "  37        73.224       0.072      71.429      0.078\n",
            "--------------------------------------------------\n",
            "  38        69.945       0.085      77.143      0.076\n",
            "--------------------------------------------------\n",
            "  39        66.667       0.111      74.286      0.117\n",
            "--------------------------------------------------\n",
            "  40        73.224       0.077      77.143      0.080\n",
            "--------------------------------------------------\n",
            "  41        72.131       0.082      77.143      0.094\n",
            "--------------------------------------------------\n",
            "  42        71.585       0.082      77.143      0.081\n",
            "--------------------------------------------------\n",
            "  43        66.120       0.090      45.714      0.126\n",
            "--------------------------------------------------\n",
            "  44        70.492       0.097      60.000      0.103\n",
            "--------------------------------------------------\n",
            "  45        66.667       0.083      74.286      0.108\n",
            "--------------------------------------------------\n",
            "  46        73.224       0.098      34.286      0.182\n",
            "--------------------------------------------------\n",
            "  47        72.678       0.093      42.857      0.158\n",
            "--------------------------------------------------\n",
            "  48        75.410       0.067      74.286      0.075\n",
            "--------------------------------------------------\n",
            "  49        73.224       0.078      80.000      0.073\n",
            "--------------------------------------------------\n",
            "  50        69.945       0.075      77.143      0.071\n",
            "Training complete in 10m 17s\n",
            "Best Validation Accuracy:80.0000 \n"
          ],
          "name": "stdout"
        }
      ]
    },
    {
      "cell_type": "code",
      "metadata": {
        "id": "QLRH93OxTYq0",
        "colab_type": "code",
        "outputId": "2835dc27-6cbc-4168-b12e-90d5e3517554",
        "colab": {
          "base_uri": "https://localhost:8080/",
          "height": 34
        }
      },
      "source": [
        "# Model Space\n",
        "total_params=0\n",
        "for param_tensor in model_ft.state_dict():\n",
        "    size=model_ft.state_dict()[param_tensor].shape\n",
        "    pars=1\n",
        "    for i in range(len(size)):\n",
        "      pars*=size[i]\n",
        "    total_params+=pars\n",
        "\n",
        "print(\"Total Model Parameters:\",total_params)"
      ],
      "execution_count": 56,
      "outputs": [
        {
          "output_type": "stream",
          "text": [
            "Total Model Parameters: 7039675\n"
          ],
          "name": "stdout"
        }
      ]
    }
  ]
}
